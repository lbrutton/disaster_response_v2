{
 "cells": [
  {
   "cell_type": "code",
   "execution_count": 18,
   "id": "iraqi-alpha",
   "metadata": {},
   "outputs": [],
   "source": [
    "dict_classification_knn = {('0','precision'): \n",
    "                           [0.94, 0.85, 0.98, 0.87], \n",
    "                           ('0','recall'): [0.86, 0.76, 0.87, 0.86], \n",
    "                           ('1','precision'): [0.56, 0.45, 0.34, 0.45], \n",
    "                           ('1','recall'): [0.35, 0.34, 0.45, 0.67]}"
   ]
  },
  {
   "cell_type": "code",
   "execution_count": 4,
   "id": "english-compensation",
   "metadata": {},
   "outputs": [],
   "source": [
    "import pandas as pd"
   ]
  },
  {
   "cell_type": "code",
   "execution_count": 19,
   "id": "surprising-islam",
   "metadata": {},
   "outputs": [
    {
     "data": {
      "text/html": [
       "<div>\n",
       "<style scoped>\n",
       "    .dataframe tbody tr th:only-of-type {\n",
       "        vertical-align: middle;\n",
       "    }\n",
       "\n",
       "    .dataframe tbody tr th {\n",
       "        vertical-align: top;\n",
       "    }\n",
       "\n",
       "    .dataframe thead tr th {\n",
       "        text-align: left;\n",
       "    }\n",
       "</style>\n",
       "<table border=\"1\" class=\"dataframe\">\n",
       "  <thead>\n",
       "    <tr>\n",
       "      <th></th>\n",
       "      <th colspan=\"2\" halign=\"left\">0</th>\n",
       "      <th colspan=\"2\" halign=\"left\">1</th>\n",
       "    </tr>\n",
       "    <tr>\n",
       "      <th></th>\n",
       "      <th>precision</th>\n",
       "      <th>recall</th>\n",
       "      <th>precision</th>\n",
       "      <th>recall</th>\n",
       "    </tr>\n",
       "  </thead>\n",
       "  <tbody>\n",
       "    <tr>\n",
       "      <th>0</th>\n",
       "      <td>0.94</td>\n",
       "      <td>0.86</td>\n",
       "      <td>0.56</td>\n",
       "      <td>0.35</td>\n",
       "    </tr>\n",
       "    <tr>\n",
       "      <th>1</th>\n",
       "      <td>0.85</td>\n",
       "      <td>0.76</td>\n",
       "      <td>0.45</td>\n",
       "      <td>0.34</td>\n",
       "    </tr>\n",
       "    <tr>\n",
       "      <th>2</th>\n",
       "      <td>0.98</td>\n",
       "      <td>0.87</td>\n",
       "      <td>0.34</td>\n",
       "      <td>0.45</td>\n",
       "    </tr>\n",
       "    <tr>\n",
       "      <th>3</th>\n",
       "      <td>0.87</td>\n",
       "      <td>0.86</td>\n",
       "      <td>0.45</td>\n",
       "      <td>0.67</td>\n",
       "    </tr>\n",
       "  </tbody>\n",
       "</table>\n",
       "</div>"
      ],
      "text/plain": [
       "          0                1       \n",
       "  precision recall precision recall\n",
       "0      0.94   0.86      0.56   0.35\n",
       "1      0.85   0.76      0.45   0.34\n",
       "2      0.98   0.87      0.34   0.45\n",
       "3      0.87   0.86      0.45   0.67"
      ]
     },
     "execution_count": 19,
     "metadata": {},
     "output_type": "execute_result"
    }
   ],
   "source": [
    "df_classification_knn = pd.DataFrame(dict_classification_knn)\n",
    "df_classification_knn"
   ]
  },
  {
   "cell_type": "code",
   "execution_count": 29,
   "id": "essential-share",
   "metadata": {},
   "outputs": [],
   "source": [
    "dict_classification_rf = {('0','precision_'): \n",
    "                           [0.80, 0.85, 0.98, 0.87], \n",
    "                           ('0','recall_'): [0.80, 0.76, 0.87, 0.80], \n",
    "                           ('1','precision_'): [0.56, 0.40, 0.34, 0.45], \n",
    "                           ('1','recall_'): [0.35, 0.34, 0.40, 0.67]}"
   ]
  },
  {
   "cell_type": "code",
   "execution_count": 30,
   "id": "literary-provision",
   "metadata": {},
   "outputs": [
    {
     "data": {
      "text/html": [
       "<div>\n",
       "<style scoped>\n",
       "    .dataframe tbody tr th:only-of-type {\n",
       "        vertical-align: middle;\n",
       "    }\n",
       "\n",
       "    .dataframe tbody tr th {\n",
       "        vertical-align: top;\n",
       "    }\n",
       "\n",
       "    .dataframe thead tr th {\n",
       "        text-align: left;\n",
       "    }\n",
       "</style>\n",
       "<table border=\"1\" class=\"dataframe\">\n",
       "  <thead>\n",
       "    <tr>\n",
       "      <th></th>\n",
       "      <th colspan=\"2\" halign=\"left\">0</th>\n",
       "      <th colspan=\"2\" halign=\"left\">1</th>\n",
       "    </tr>\n",
       "    <tr>\n",
       "      <th></th>\n",
       "      <th>precision_</th>\n",
       "      <th>recall_</th>\n",
       "      <th>precision_</th>\n",
       "      <th>recall_</th>\n",
       "    </tr>\n",
       "  </thead>\n",
       "  <tbody>\n",
       "    <tr>\n",
       "      <th>0</th>\n",
       "      <td>0.80</td>\n",
       "      <td>0.80</td>\n",
       "      <td>0.56</td>\n",
       "      <td>0.35</td>\n",
       "    </tr>\n",
       "    <tr>\n",
       "      <th>1</th>\n",
       "      <td>0.85</td>\n",
       "      <td>0.76</td>\n",
       "      <td>0.40</td>\n",
       "      <td>0.34</td>\n",
       "    </tr>\n",
       "    <tr>\n",
       "      <th>2</th>\n",
       "      <td>0.98</td>\n",
       "      <td>0.87</td>\n",
       "      <td>0.34</td>\n",
       "      <td>0.40</td>\n",
       "    </tr>\n",
       "    <tr>\n",
       "      <th>3</th>\n",
       "      <td>0.87</td>\n",
       "      <td>0.80</td>\n",
       "      <td>0.45</td>\n",
       "      <td>0.67</td>\n",
       "    </tr>\n",
       "  </tbody>\n",
       "</table>\n",
       "</div>"
      ],
      "text/plain": [
       "           0                  1        \n",
       "  precision_ recall_ precision_ recall_\n",
       "0       0.80    0.80       0.56    0.35\n",
       "1       0.85    0.76       0.40    0.34\n",
       "2       0.98    0.87       0.34    0.40\n",
       "3       0.87    0.80       0.45    0.67"
      ]
     },
     "execution_count": 30,
     "metadata": {},
     "output_type": "execute_result"
    }
   ],
   "source": [
    "df_classification_rf = pd.DataFrame(dict_classification_rf)\n",
    "df_classification_rf"
   ]
  },
  {
   "cell_type": "code",
   "execution_count": 31,
   "id": "dated-print",
   "metadata": {},
   "outputs": [],
   "source": [
    "df_summary = pd.concat([df_classification_knn, df_classification_rf], axis=1)"
   ]
  },
  {
   "cell_type": "code",
   "execution_count": 32,
   "id": "earned-browser",
   "metadata": {},
   "outputs": [],
   "source": [
    "def highlight_max(s):\n",
    "    '''\n",
    "    highlight the maximum in a Series yellow.\n",
    "    '''\n",
    "    is_max = s == s.max()\n",
    "    return ['background-color: yellow' if v else '' for v in is_max]"
   ]
  },
  {
   "cell_type": "code",
   "execution_count": 33,
   "id": "mediterranean-diameter",
   "metadata": {},
   "outputs": [
    {
     "data": {
      "text/html": [
       "<style  type=\"text/css\" >\n",
       "#T_dfa52_row0_col2,#T_dfa52_row0_col6,#T_dfa52_row2_col0,#T_dfa52_row2_col1,#T_dfa52_row2_col4,#T_dfa52_row2_col5,#T_dfa52_row3_col3,#T_dfa52_row3_col7{\n",
       "            background-color:  yellow;\n",
       "        }</style><table id=\"T_dfa52_\" ><thead>    <tr>        <th class=\"blank level0\" ></th>        <th class=\"col_heading level0 col0\" colspan=\"2\">0</th>        <th class=\"col_heading level0 col2\" colspan=\"2\">1</th>        <th class=\"col_heading level0 col4\" colspan=\"2\">0</th>        <th class=\"col_heading level0 col6\" colspan=\"2\">1</th>    </tr>    <tr>        <th class=\"blank level1\" ></th>        <th class=\"col_heading level1 col0\" >precision</th>        <th class=\"col_heading level1 col1\" >recall</th>        <th class=\"col_heading level1 col2\" >precision</th>        <th class=\"col_heading level1 col3\" >recall</th>        <th class=\"col_heading level1 col4\" >precision_</th>        <th class=\"col_heading level1 col5\" >recall_</th>        <th class=\"col_heading level1 col6\" >precision_</th>        <th class=\"col_heading level1 col7\" >recall_</th>    </tr></thead><tbody>\n",
       "                <tr>\n",
       "                        <th id=\"T_dfa52_level0_row0\" class=\"row_heading level0 row0\" >0</th>\n",
       "                        <td id=\"T_dfa52_row0_col0\" class=\"data row0 col0\" >0.940000</td>\n",
       "                        <td id=\"T_dfa52_row0_col1\" class=\"data row0 col1\" >0.860000</td>\n",
       "                        <td id=\"T_dfa52_row0_col2\" class=\"data row0 col2\" >0.560000</td>\n",
       "                        <td id=\"T_dfa52_row0_col3\" class=\"data row0 col3\" >0.350000</td>\n",
       "                        <td id=\"T_dfa52_row0_col4\" class=\"data row0 col4\" >0.800000</td>\n",
       "                        <td id=\"T_dfa52_row0_col5\" class=\"data row0 col5\" >0.800000</td>\n",
       "                        <td id=\"T_dfa52_row0_col6\" class=\"data row0 col6\" >0.560000</td>\n",
       "                        <td id=\"T_dfa52_row0_col7\" class=\"data row0 col7\" >0.350000</td>\n",
       "            </tr>\n",
       "            <tr>\n",
       "                        <th id=\"T_dfa52_level0_row1\" class=\"row_heading level0 row1\" >1</th>\n",
       "                        <td id=\"T_dfa52_row1_col0\" class=\"data row1 col0\" >0.850000</td>\n",
       "                        <td id=\"T_dfa52_row1_col1\" class=\"data row1 col1\" >0.760000</td>\n",
       "                        <td id=\"T_dfa52_row1_col2\" class=\"data row1 col2\" >0.450000</td>\n",
       "                        <td id=\"T_dfa52_row1_col3\" class=\"data row1 col3\" >0.340000</td>\n",
       "                        <td id=\"T_dfa52_row1_col4\" class=\"data row1 col4\" >0.850000</td>\n",
       "                        <td id=\"T_dfa52_row1_col5\" class=\"data row1 col5\" >0.760000</td>\n",
       "                        <td id=\"T_dfa52_row1_col6\" class=\"data row1 col6\" >0.400000</td>\n",
       "                        <td id=\"T_dfa52_row1_col7\" class=\"data row1 col7\" >0.340000</td>\n",
       "            </tr>\n",
       "            <tr>\n",
       "                        <th id=\"T_dfa52_level0_row2\" class=\"row_heading level0 row2\" >2</th>\n",
       "                        <td id=\"T_dfa52_row2_col0\" class=\"data row2 col0\" >0.980000</td>\n",
       "                        <td id=\"T_dfa52_row2_col1\" class=\"data row2 col1\" >0.870000</td>\n",
       "                        <td id=\"T_dfa52_row2_col2\" class=\"data row2 col2\" >0.340000</td>\n",
       "                        <td id=\"T_dfa52_row2_col3\" class=\"data row2 col3\" >0.450000</td>\n",
       "                        <td id=\"T_dfa52_row2_col4\" class=\"data row2 col4\" >0.980000</td>\n",
       "                        <td id=\"T_dfa52_row2_col5\" class=\"data row2 col5\" >0.870000</td>\n",
       "                        <td id=\"T_dfa52_row2_col6\" class=\"data row2 col6\" >0.340000</td>\n",
       "                        <td id=\"T_dfa52_row2_col7\" class=\"data row2 col7\" >0.400000</td>\n",
       "            </tr>\n",
       "            <tr>\n",
       "                        <th id=\"T_dfa52_level0_row3\" class=\"row_heading level0 row3\" >3</th>\n",
       "                        <td id=\"T_dfa52_row3_col0\" class=\"data row3 col0\" >0.870000</td>\n",
       "                        <td id=\"T_dfa52_row3_col1\" class=\"data row3 col1\" >0.860000</td>\n",
       "                        <td id=\"T_dfa52_row3_col2\" class=\"data row3 col2\" >0.450000</td>\n",
       "                        <td id=\"T_dfa52_row3_col3\" class=\"data row3 col3\" >0.670000</td>\n",
       "                        <td id=\"T_dfa52_row3_col4\" class=\"data row3 col4\" >0.870000</td>\n",
       "                        <td id=\"T_dfa52_row3_col5\" class=\"data row3 col5\" >0.800000</td>\n",
       "                        <td id=\"T_dfa52_row3_col6\" class=\"data row3 col6\" >0.450000</td>\n",
       "                        <td id=\"T_dfa52_row3_col7\" class=\"data row3 col7\" >0.670000</td>\n",
       "            </tr>\n",
       "    </tbody></table>"
      ],
      "text/plain": [
       "<pandas.io.formats.style.Styler at 0x23d605b2d30>"
      ]
     },
     "execution_count": 33,
     "metadata": {},
     "output_type": "execute_result"
    }
   ],
   "source": [
    "df_summary.style.apply(highlight_max)"
   ]
  }
 ],
 "metadata": {
  "kernelspec": {
   "display_name": "Python 3",
   "language": "python",
   "name": "python3"
  },
  "language_info": {
   "codemirror_mode": {
    "name": "ipython",
    "version": 3
   },
   "file_extension": ".py",
   "mimetype": "text/x-python",
   "name": "python",
   "nbconvert_exporter": "python",
   "pygments_lexer": "ipython3",
   "version": "3.9.0"
  }
 },
 "nbformat": 4,
 "nbformat_minor": 5
}
